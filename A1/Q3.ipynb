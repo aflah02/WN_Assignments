{
 "cells": [
  {
   "cell_type": "code",
   "execution_count": 1,
   "metadata": {},
   "outputs": [],
   "source": [
    "!pip install pandas numpy matplotlib -q"
   ]
  },
  {
   "cell_type": "code",
   "execution_count": 2,
   "metadata": {},
   "outputs": [],
   "source": [
    "import pandas as pd\n",
    "import matplotlib.pyplot as plt"
   ]
  },
  {
   "cell_type": "code",
   "execution_count": 3,
   "metadata": {},
   "outputs": [],
   "source": [
    "df = pd.read_csv('Q3_Packet_Dissections.csv')"
   ]
  },
  {
   "cell_type": "code",
   "execution_count": 4,
   "metadata": {},
   "outputs": [
    {
     "data": {
      "text/html": [
       "<div>\n",
       "<style scoped>\n",
       "    .dataframe tbody tr th:only-of-type {\n",
       "        vertical-align: middle;\n",
       "    }\n",
       "\n",
       "    .dataframe tbody tr th {\n",
       "        vertical-align: top;\n",
       "    }\n",
       "\n",
       "    .dataframe thead th {\n",
       "        text-align: right;\n",
       "    }\n",
       "</style>\n",
       "<table border=\"1\" class=\"dataframe\">\n",
       "  <thead>\n",
       "    <tr style=\"text-align: right;\">\n",
       "      <th></th>\n",
       "      <th>No.</th>\n",
       "      <th>Time</th>\n",
       "      <th>Source</th>\n",
       "      <th>Destination</th>\n",
       "      <th>Protocol</th>\n",
       "      <th>Length</th>\n",
       "      <th>Source address</th>\n",
       "      <th>PHY type</th>\n",
       "      <th>Data rate (Mb/s)</th>\n",
       "      <th>Signal strength (dBm)</th>\n",
       "      <th>Data rate</th>\n",
       "      <th>Time delta from previous captured frame</th>\n",
       "      <th>Time delta from previous displayed frame</th>\n",
       "      <th>Destination.1</th>\n",
       "      <th>Source.1</th>\n",
       "      <th>Info</th>\n",
       "    </tr>\n",
       "  </thead>\n",
       "  <tbody>\n",
       "    <tr>\n",
       "      <th>0</th>\n",
       "      <td>1</td>\n",
       "      <td>0.000000</td>\n",
       "      <td>_gateway</td>\n",
       "      <td>aflah-ROG-Zephyrus-G14-GA401II-GA401II.local</td>\n",
       "      <td>ICMPv6</td>\n",
       "      <td>142</td>\n",
       "      <td>NaN</td>\n",
       "      <td>NaN</td>\n",
       "      <td>NaN</td>\n",
       "      <td>NaN</td>\n",
       "      <td>NaN</td>\n",
       "      <td>0.000000e+00</td>\n",
       "      <td>0.000000e+00</td>\n",
       "      <td>c8:e2:65:47:89:de</td>\n",
       "      <td>a6:74:66:c3:40:46</td>\n",
       "      <td>Destination Unreachable (Beyond scope of sourc...</td>\n",
       "    </tr>\n",
       "    <tr>\n",
       "      <th>1</th>\n",
       "      <td>2</td>\n",
       "      <td>0.060990</td>\n",
       "      <td>aflah-ROG-Zephyrus-G14-GA401II-GA401II.local</td>\n",
       "      <td>224.0.0.251</td>\n",
       "      <td>MDNS</td>\n",
       "      <td>183</td>\n",
       "      <td>NaN</td>\n",
       "      <td>NaN</td>\n",
       "      <td>NaN</td>\n",
       "      <td>NaN</td>\n",
       "      <td>NaN</td>\n",
       "      <td>6.098992e-02</td>\n",
       "      <td>6.098992e-02</td>\n",
       "      <td>01:00:5e:00:00:fb</td>\n",
       "      <td>c8:e2:65:47:89:de</td>\n",
       "      <td>Standard query 0x0000 PTR _nfs._tcp.local, \"QM...</td>\n",
       "    </tr>\n",
       "    <tr>\n",
       "      <th>2</th>\n",
       "      <td>3</td>\n",
       "      <td>0.592077</td>\n",
       "      <td>aflah-ROG-Zephyrus-G14-GA401II-GA401II.local</td>\n",
       "      <td>ff02::fb</td>\n",
       "      <td>MDNS</td>\n",
       "      <td>244</td>\n",
       "      <td>NaN</td>\n",
       "      <td>NaN</td>\n",
       "      <td>NaN</td>\n",
       "      <td>NaN</td>\n",
       "      <td>NaN</td>\n",
       "      <td>5.310875e-01</td>\n",
       "      <td>5.310875e-01</td>\n",
       "      <td>33:33:00:00:00:fb</td>\n",
       "      <td>c8:e2:65:47:89:de</td>\n",
       "      <td>Standard query 0x0000 ANY 8.5.2.f.3.3.3.6.c.9....</td>\n",
       "    </tr>\n",
       "    <tr>\n",
       "      <th>3</th>\n",
       "      <td>4</td>\n",
       "      <td>0.592245</td>\n",
       "      <td>aflah-ROG-Zephyrus-G14-GA401II-GA401II.local</td>\n",
       "      <td>224.0.0.251</td>\n",
       "      <td>MDNS</td>\n",
       "      <td>224</td>\n",
       "      <td>NaN</td>\n",
       "      <td>NaN</td>\n",
       "      <td>NaN</td>\n",
       "      <td>NaN</td>\n",
       "      <td>NaN</td>\n",
       "      <td>1.676640e-04</td>\n",
       "      <td>1.676640e-04</td>\n",
       "      <td>01:00:5e:00:00:fb</td>\n",
       "      <td>c8:e2:65:47:89:de</td>\n",
       "      <td>Standard query 0x0000 ANY 8.5.2.f.3.3.3.6.c.9....</td>\n",
       "    </tr>\n",
       "    <tr>\n",
       "      <th>4</th>\n",
       "      <td>5</td>\n",
       "      <td>0.592395</td>\n",
       "      <td>aflah-ROG-Zephyrus-G14-GA401II-GA401II.local</td>\n",
       "      <td>ff02::fb</td>\n",
       "      <td>MDNS</td>\n",
       "      <td>146</td>\n",
       "      <td>NaN</td>\n",
       "      <td>NaN</td>\n",
       "      <td>NaN</td>\n",
       "      <td>NaN</td>\n",
       "      <td>NaN</td>\n",
       "      <td>1.494380e-04</td>\n",
       "      <td>1.494380e-04</td>\n",
       "      <td>33:33:00:00:00:fb</td>\n",
       "      <td>c8:e2:65:47:89:de</td>\n",
       "      <td>Standard query response 0x0000 AAAA, cache flu...</td>\n",
       "    </tr>\n",
       "    <tr>\n",
       "      <th>...</th>\n",
       "      <td>...</td>\n",
       "      <td>...</td>\n",
       "      <td>...</td>\n",
       "      <td>...</td>\n",
       "      <td>...</td>\n",
       "      <td>...</td>\n",
       "      <td>...</td>\n",
       "      <td>...</td>\n",
       "      <td>...</td>\n",
       "      <td>...</td>\n",
       "      <td>...</td>\n",
       "      <td>...</td>\n",
       "      <td>...</td>\n",
       "      <td>...</td>\n",
       "      <td>...</td>\n",
       "      <td>...</td>\n",
       "    </tr>\n",
       "    <tr>\n",
       "      <th>29227</th>\n",
       "      <td>29228</td>\n",
       "      <td>312.946682</td>\n",
       "      <td>rr5.sn-qxaeenl6.googlevideo.com</td>\n",
       "      <td>aflah-ROG-Zephyrus-G14-GA401II-GA401II.local</td>\n",
       "      <td>QUIC</td>\n",
       "      <td>1399</td>\n",
       "      <td>NaN</td>\n",
       "      <td>NaN</td>\n",
       "      <td>NaN</td>\n",
       "      <td>NaN</td>\n",
       "      <td>NaN</td>\n",
       "      <td>9.080000e-07</td>\n",
       "      <td>9.080000e-07</td>\n",
       "      <td>c8:e2:65:47:89:de</td>\n",
       "      <td>a6:74:66:c3:40:46</td>\n",
       "      <td>Protected Payload (KP0), DCID=c7f5e1</td>\n",
       "    </tr>\n",
       "    <tr>\n",
       "      <th>29228</th>\n",
       "      <td>29229</td>\n",
       "      <td>312.946803</td>\n",
       "      <td>aflah-ROG-Zephyrus-G14-GA401II-GA401II.local</td>\n",
       "      <td>rr5.sn-qxaeenl6.googlevideo.com</td>\n",
       "      <td>QUIC</td>\n",
       "      <td>95</td>\n",
       "      <td>NaN</td>\n",
       "      <td>NaN</td>\n",
       "      <td>NaN</td>\n",
       "      <td>NaN</td>\n",
       "      <td>NaN</td>\n",
       "      <td>1.213040e-04</td>\n",
       "      <td>1.213040e-04</td>\n",
       "      <td>a6:74:66:c3:40:46</td>\n",
       "      <td>c8:e2:65:47:89:de</td>\n",
       "      <td>Protected Payload (KP0), DCID=f1ca054a4d20aa9a</td>\n",
       "    </tr>\n",
       "    <tr>\n",
       "      <th>29229</th>\n",
       "      <td>29230</td>\n",
       "      <td>312.946945</td>\n",
       "      <td>rr5.sn-qxaeenl6.googlevideo.com</td>\n",
       "      <td>aflah-ROG-Zephyrus-G14-GA401II-GA401II.local</td>\n",
       "      <td>QUIC</td>\n",
       "      <td>1399</td>\n",
       "      <td>NaN</td>\n",
       "      <td>NaN</td>\n",
       "      <td>NaN</td>\n",
       "      <td>NaN</td>\n",
       "      <td>NaN</td>\n",
       "      <td>1.424650e-04</td>\n",
       "      <td>1.424650e-04</td>\n",
       "      <td>c8:e2:65:47:89:de</td>\n",
       "      <td>a6:74:66:c3:40:46</td>\n",
       "      <td>Protected Payload (KP0), DCID=c7f5e1</td>\n",
       "    </tr>\n",
       "    <tr>\n",
       "      <th>29230</th>\n",
       "      <td>29231</td>\n",
       "      <td>312.947216</td>\n",
       "      <td>rr5.sn-qxaeenl6.googlevideo.com</td>\n",
       "      <td>aflah-ROG-Zephyrus-G14-GA401II-GA401II.local</td>\n",
       "      <td>QUIC</td>\n",
       "      <td>1399</td>\n",
       "      <td>NaN</td>\n",
       "      <td>NaN</td>\n",
       "      <td>NaN</td>\n",
       "      <td>NaN</td>\n",
       "      <td>NaN</td>\n",
       "      <td>2.701940e-04</td>\n",
       "      <td>2.701940e-04</td>\n",
       "      <td>c8:e2:65:47:89:de</td>\n",
       "      <td>a6:74:66:c3:40:46</td>\n",
       "      <td>Protected Payload (KP0), DCID=c7f5e1</td>\n",
       "    </tr>\n",
       "    <tr>\n",
       "      <th>29231</th>\n",
       "      <td>29232</td>\n",
       "      <td>312.947278</td>\n",
       "      <td>aflah-ROG-Zephyrus-G14-GA401II-GA401II.local</td>\n",
       "      <td>rr5.sn-qxaeenl6.googlevideo.com</td>\n",
       "      <td>QUIC</td>\n",
       "      <td>95</td>\n",
       "      <td>NaN</td>\n",
       "      <td>NaN</td>\n",
       "      <td>NaN</td>\n",
       "      <td>NaN</td>\n",
       "      <td>NaN</td>\n",
       "      <td>6.201400e-05</td>\n",
       "      <td>6.201400e-05</td>\n",
       "      <td>a6:74:66:c3:40:46</td>\n",
       "      <td>c8:e2:65:47:89:de</td>\n",
       "      <td>Protected Payload (KP0), DCID=f1ca054a4d20aa9a</td>\n",
       "    </tr>\n",
       "  </tbody>\n",
       "</table>\n",
       "<p>29232 rows × 16 columns</p>\n",
       "</div>"
      ],
      "text/plain": [
       "         No.        Time                                        Source  \\\n",
       "0          1    0.000000                                      _gateway   \n",
       "1          2    0.060990  aflah-ROG-Zephyrus-G14-GA401II-GA401II.local   \n",
       "2          3    0.592077  aflah-ROG-Zephyrus-G14-GA401II-GA401II.local   \n",
       "3          4    0.592245  aflah-ROG-Zephyrus-G14-GA401II-GA401II.local   \n",
       "4          5    0.592395  aflah-ROG-Zephyrus-G14-GA401II-GA401II.local   \n",
       "...      ...         ...                                           ...   \n",
       "29227  29228  312.946682               rr5.sn-qxaeenl6.googlevideo.com   \n",
       "29228  29229  312.946803  aflah-ROG-Zephyrus-G14-GA401II-GA401II.local   \n",
       "29229  29230  312.946945               rr5.sn-qxaeenl6.googlevideo.com   \n",
       "29230  29231  312.947216               rr5.sn-qxaeenl6.googlevideo.com   \n",
       "29231  29232  312.947278  aflah-ROG-Zephyrus-G14-GA401II-GA401II.local   \n",
       "\n",
       "                                        Destination Protocol  Length  \\\n",
       "0      aflah-ROG-Zephyrus-G14-GA401II-GA401II.local   ICMPv6     142   \n",
       "1                                       224.0.0.251     MDNS     183   \n",
       "2                                          ff02::fb     MDNS     244   \n",
       "3                                       224.0.0.251     MDNS     224   \n",
       "4                                          ff02::fb     MDNS     146   \n",
       "...                                             ...      ...     ...   \n",
       "29227  aflah-ROG-Zephyrus-G14-GA401II-GA401II.local     QUIC    1399   \n",
       "29228               rr5.sn-qxaeenl6.googlevideo.com     QUIC      95   \n",
       "29229  aflah-ROG-Zephyrus-G14-GA401II-GA401II.local     QUIC    1399   \n",
       "29230  aflah-ROG-Zephyrus-G14-GA401II-GA401II.local     QUIC    1399   \n",
       "29231               rr5.sn-qxaeenl6.googlevideo.com     QUIC      95   \n",
       "\n",
       "       Source address  PHY type  Data rate (Mb/s)  Signal strength (dBm)  \\\n",
       "0                 NaN       NaN               NaN                    NaN   \n",
       "1                 NaN       NaN               NaN                    NaN   \n",
       "2                 NaN       NaN               NaN                    NaN   \n",
       "3                 NaN       NaN               NaN                    NaN   \n",
       "4                 NaN       NaN               NaN                    NaN   \n",
       "...               ...       ...               ...                    ...   \n",
       "29227             NaN       NaN               NaN                    NaN   \n",
       "29228             NaN       NaN               NaN                    NaN   \n",
       "29229             NaN       NaN               NaN                    NaN   \n",
       "29230             NaN       NaN               NaN                    NaN   \n",
       "29231             NaN       NaN               NaN                    NaN   \n",
       "\n",
       "       Data rate  Time delta from previous captured frame  \\\n",
       "0            NaN                             0.000000e+00   \n",
       "1            NaN                             6.098992e-02   \n",
       "2            NaN                             5.310875e-01   \n",
       "3            NaN                             1.676640e-04   \n",
       "4            NaN                             1.494380e-04   \n",
       "...          ...                                      ...   \n",
       "29227        NaN                             9.080000e-07   \n",
       "29228        NaN                             1.213040e-04   \n",
       "29229        NaN                             1.424650e-04   \n",
       "29230        NaN                             2.701940e-04   \n",
       "29231        NaN                             6.201400e-05   \n",
       "\n",
       "       Time delta from previous displayed frame      Destination.1  \\\n",
       "0                                  0.000000e+00  c8:e2:65:47:89:de   \n",
       "1                                  6.098992e-02  01:00:5e:00:00:fb   \n",
       "2                                  5.310875e-01  33:33:00:00:00:fb   \n",
       "3                                  1.676640e-04  01:00:5e:00:00:fb   \n",
       "4                                  1.494380e-04  33:33:00:00:00:fb   \n",
       "...                                         ...                ...   \n",
       "29227                              9.080000e-07  c8:e2:65:47:89:de   \n",
       "29228                              1.213040e-04  a6:74:66:c3:40:46   \n",
       "29229                              1.424650e-04  c8:e2:65:47:89:de   \n",
       "29230                              2.701940e-04  c8:e2:65:47:89:de   \n",
       "29231                              6.201400e-05  a6:74:66:c3:40:46   \n",
       "\n",
       "                Source.1                                               Info  \n",
       "0      a6:74:66:c3:40:46  Destination Unreachable (Beyond scope of sourc...  \n",
       "1      c8:e2:65:47:89:de  Standard query 0x0000 PTR _nfs._tcp.local, \"QM...  \n",
       "2      c8:e2:65:47:89:de  Standard query 0x0000 ANY 8.5.2.f.3.3.3.6.c.9....  \n",
       "3      c8:e2:65:47:89:de  Standard query 0x0000 ANY 8.5.2.f.3.3.3.6.c.9....  \n",
       "4      c8:e2:65:47:89:de  Standard query response 0x0000 AAAA, cache flu...  \n",
       "...                  ...                                                ...  \n",
       "29227  a6:74:66:c3:40:46               Protected Payload (KP0), DCID=c7f5e1  \n",
       "29228  c8:e2:65:47:89:de     Protected Payload (KP0), DCID=f1ca054a4d20aa9a  \n",
       "29229  a6:74:66:c3:40:46               Protected Payload (KP0), DCID=c7f5e1  \n",
       "29230  a6:74:66:c3:40:46               Protected Payload (KP0), DCID=c7f5e1  \n",
       "29231  c8:e2:65:47:89:de     Protected Payload (KP0), DCID=f1ca054a4d20aa9a  \n",
       "\n",
       "[29232 rows x 16 columns]"
      ]
     },
     "execution_count": 4,
     "metadata": {},
     "output_type": "execute_result"
    }
   ],
   "source": [
    "df"
   ]
  },
  {
   "cell_type": "code",
   "execution_count": 5,
   "metadata": {},
   "outputs": [],
   "source": [
    "df = df[df['Time delta from previous captured frame'] != 0]"
   ]
  },
  {
   "cell_type": "code",
   "execution_count": 6,
   "metadata": {},
   "outputs": [
    {
     "name": "stderr",
     "output_type": "stream",
     "text": [
      "/tmp/ipykernel_7672/649053836.py:1: SettingWithCopyWarning: \n",
      "A value is trying to be set on a copy of a slice from a DataFrame.\n",
      "Try using .loc[row_indexer,col_indexer] = value instead\n",
      "\n",
      "See the caveats in the documentation: https://pandas.pydata.org/pandas-docs/stable/user_guide/indexing.html#returning-a-view-versus-a-copy\n",
      "  df['Speed'] = df['Length'] / df['Time delta from previous captured frame']\n"
     ]
    }
   ],
   "source": [
    "df['Speed'] = df['Length'] / df['Time delta from previous captured frame']"
   ]
  },
  {
   "cell_type": "code",
   "execution_count": 7,
   "metadata": {},
   "outputs": [
    {
     "data": {
      "text/plain": [
       "array(['MDNS', 'ARP', 'HTTP', 'DNS', 'TLSv1.2', 'TCP', 'ICMPv6',\n",
       "       'TLSv1.3', 'QUIC', 'UDP'], dtype=object)"
      ]
     },
     "execution_count": 7,
     "metadata": {},
     "output_type": "execute_result"
    }
   ],
   "source": [
    "df['Protocol'].unique()"
   ]
  },
  {
   "cell_type": "code",
   "execution_count": 8,
   "metadata": {},
   "outputs": [
    {
     "name": "stdout",
     "output_type": "stream",
     "text": [
      "Number of TCP Packets: 1922\n"
     ]
    }
   ],
   "source": [
    "num_tcp = len(df[df['Protocol'] == 'TCP'])\n",
    "print(\"Number of TCP Packets:\", num_tcp)"
   ]
  },
  {
   "cell_type": "code",
   "execution_count": 9,
   "metadata": {},
   "outputs": [
    {
     "name": "stdout",
     "output_type": "stream",
     "text": [
      "Number of QUIC Packets: 25746\n"
     ]
    }
   ],
   "source": [
    "num_quic = len(df[df['Protocol'] == 'QUIC'])\n",
    "print(\"Number of QUIC Packets:\", num_quic)"
   ]
  },
  {
   "cell_type": "markdown",
   "metadata": {},
   "source": [
    "## Bonus"
   ]
  },
  {
   "cell_type": "code",
   "execution_count": 10,
   "metadata": {},
   "outputs": [],
   "source": [
    "ls_dest = df['Destination'].to_list()\n",
    "ls_dest_mac = df['Destination.1'].to_list()\n",
    "ls_dest_yt_mac = []\n",
    "for i in range(len(ls_dest)):\n",
    "    if 'youtube' in ls_dest[i] or 'googlevideo' in ls_dest[i]:\n",
    "        ls_dest_yt_mac.append(ls_dest_mac[i])\n",
    "\n",
    "ls_src = df['Source'].to_list()\n",
    "ls_src_mac = df['Source.1'].to_list()\n",
    "ls_src_yt_mac = []\n",
    "for i in range(len(ls_src)):\n",
    "    if 'youtube' in ls_src[i] or 'googlevideo' in ls_src[i]:\n",
    "        ls_src_yt_mac.append(ls_src_mac[i])\n"
   ]
  },
  {
   "cell_type": "code",
   "execution_count": 11,
   "metadata": {},
   "outputs": [
    {
     "name": "stdout",
     "output_type": "stream",
     "text": [
      "Youtube's Source MACs ['a6:74:66:c3:40:46']\n",
      "Youtube's Dest Macs ['a6:74:66:c3:40:46']\n"
     ]
    }
   ],
   "source": [
    "ls_dest_yt_mac = list(set(ls_dest_yt_mac))\n",
    "ls_src_yt_mac = list(set(ls_src_yt_mac))\n",
    "\n",
    "print(\"Youtube's Source MACs\", ls_src_yt_mac)\n",
    "print(\"Youtube's Dest Macs\", ls_dest_yt_mac)"
   ]
  },
  {
   "cell_type": "code",
   "execution_count": 12,
   "metadata": {},
   "outputs": [],
   "source": [
    "ls_protocol = df['Protocol'].to_list()"
   ]
  },
  {
   "cell_type": "code",
   "execution_count": 13,
   "metadata": {},
   "outputs": [],
   "source": [
    "src_to_yt_tcp_count = 0\n",
    "src_to_yt_quic_count = 0\n",
    "yt_to_src_tcp_count = 0\n",
    "yt_to_src_quic_count = 0\n",
    "for i in range(len(ls_src)):\n",
    "    src = ls_src[i]\n",
    "    src_mac = ls_src_mac[i]\n",
    "    dest = ls_dest[i]\n",
    "    dest_mac = ls_dest_mac[i]\n",
    "    protocol = ls_protocol[i]\n",
    "    if src_mac == 'a6:74:66:c3:40:46':\n",
    "        if protocol == 'TCP':\n",
    "            yt_to_src_tcp_count += 1\n",
    "        elif protocol == 'QUIC':\n",
    "            yt_to_src_quic_count += 1\n",
    "    if dest_mac == 'a6:74:66:c3:40:46':\n",
    "        if protocol == 'TCP':\n",
    "            src_to_yt_tcp_count += 1\n",
    "        elif protocol == 'QUIC':\n",
    "            src_to_yt_quic_count += 1"
   ]
  },
  {
   "cell_type": "code",
   "execution_count": 14,
   "metadata": {},
   "outputs": [
    {
     "name": "stdout",
     "output_type": "stream",
     "text": [
      "Source to Youtube TCP Packets 1053\n",
      "Source to Youtube QUIC Packets 5824\n",
      "Youtube to Source TCP Packets 869\n",
      "Youtube to Source QUIC Packets 19922\n"
     ]
    }
   ],
   "source": [
    "print(\"Source to Youtube TCP Packets\", src_to_yt_tcp_count)\n",
    "print(\"Source to Youtube QUIC Packets\", src_to_yt_quic_count)\n",
    "print(\"Youtube to Source TCP Packets\", yt_to_src_tcp_count)\n",
    "print(\"Youtube to Source QUIC Packets\", yt_to_src_quic_count)"
   ]
  }
 ],
 "metadata": {
  "kernelspec": {
   "display_name": ".venv",
   "language": "python",
   "name": "python3"
  },
  "language_info": {
   "codemirror_mode": {
    "name": "ipython",
    "version": 3
   },
   "file_extension": ".py",
   "mimetype": "text/x-python",
   "name": "python",
   "nbconvert_exporter": "python",
   "pygments_lexer": "ipython3",
   "version": "3.10.12"
  },
  "orig_nbformat": 4
 },
 "nbformat": 4,
 "nbformat_minor": 2
}
